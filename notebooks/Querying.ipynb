{
 "cells": [
  {
   "cell_type": "markdown",
   "metadata": {},
   "source": [
    "# Import Libraries"
   ]
  },
  {
   "cell_type": "code",
   "execution_count": 1,
   "metadata": {},
   "outputs": [],
   "source": [
    "import pandas as pd\n",
    "import chromadb\n",
    "import nltk\n",
    "from nltk.tokenize import word_tokenize\n",
    "from nltk.stem import SnowballStemmer\n",
    "from nltk.corpus import stopwords\n",
    "from nltk.stem import WordNetLemmatizer\n",
    "import re\n",
    "import collections\n",
    "# Download NLTK resources if not already downloaded\n",
    "#nltk.download('punkt')\n",
    "#nltk.download('wordnet')\n",
    "#nltk.download('stopwords')"
   ]
  },
  {
   "cell_type": "markdown",
   "metadata": {},
   "source": [
    "# Create Pipeline"
   ]
  },
  {
   "cell_type": "code",
   "execution_count": 2,
   "metadata": {},
   "outputs": [],
   "source": [
    "timestamp_pattern=r'\\d+\\r?\\n\\d{2}:\\d{2}:\\d{2},\\d{3} --> \\d{2}:\\d{2}:\\d{2},\\d{3}'\n",
    "dialogue_pattern=r\"Dialogue: (Marked=)?\\d+,\\d{1,2}:\\d{2}:\\d{2}\\.\\d{2},\\d{1,2}:\\d{2}:\\d{2}\\.\\d{2},\\*?(\\w+)?,(\\w+)?,\\d{1,4},\\d{1,4},\\d{1,4},,\"\n",
    "header_pattern1=r'Watch any video online with Open-SUBTITLES\\r\\nFree Browser extension: osdb.link/ext\\r\\n\\r\\n\\r\\n'#header\n",
    "header_pattern2=r'\\r\\nAdvertise your product or brand here\\r\\ncontact www.OpenSubtitles.org today'\n",
    "footer_pattern=r'Please rate this subtitle at www.osdb.link/[0-9a-z]+\\r\\nHelp other users to choose the best subtitles' #footer\n",
    "header_pattern = r'\\[Script Info\\].*?\\[Events\\]\\r\\n.*?\\r\\n(Subtitle:)?'\n",
    "link_pattern=r'(https?:\\/\\/)?(www\\.)?(\\w+)(\\.\\w+)'\n",
    "linebreak_pattern=r'(\\r?\\n)+'\n",
    "punctuation_pattern=r'[^a-zA-Z]'"
   ]
  },
  {
   "cell_type": "code",
   "execution_count": 3,
   "metadata": {},
   "outputs": [],
   "source": [
    "\n",
    "def text_preprocessing(corpus,flag):\n",
    "\n",
    "\n",
    "    if re.search(timestamp_pattern,corpus): #movie or tv show\n",
    "        #remove timestamps\n",
    "        corpus=re.sub(timestamp_pattern,'',corpus)\n",
    "        #remove header and footer\n",
    "        corpus=re.sub(header_pattern1,'',corpus)\n",
    "        corpus=re.sub(footer_pattern,'',corpus)\n",
    "\n",
    "    else: #anime\n",
    "        #removing header\n",
    "        corpus=re.sub(header_pattern,'',corpus,flags=re.DOTALL)\n",
    "        #removing dialogue\n",
    "        corpus=re.sub(dialogue_pattern,'',corpus)\n",
    "        \n",
    "    #remove linebreaks\n",
    "    corpus=re.sub(linebreak_pattern,' ',corpus)\n",
    "    \n",
    "    #remove links\n",
    "    corpus=re.sub(link_pattern,'',corpus)\n",
    "    \n",
    "    #remove punctuation\n",
    "    corpus=re.sub(punctuation_pattern,' ',corpus)\n",
    "    \n",
    "    \n",
    "    \n",
    "    #convert to lower case\n",
    "    corpus=corpus.lower()\n",
    "\n",
    "    if flag == \"stemming\":\n",
    "        stemmer = SnowballStemmer(language='english')\n",
    "        preprocess_func = stemmer.stem\n",
    "    else:\n",
    "        lemmatizer = WordNetLemmatizer()\n",
    "        preprocess_func = lemmatizer.lemmatize\n",
    "    \n",
    "    # Tokenize text\n",
    "    words = word_tokenize(corpus.lower())\n",
    "    \n",
    "    # Precompute stopwords\n",
    "    stop_words = set(nltk.corpus.stopwords.words('english'))\n",
    "    \n",
    "    # Process tokens\n",
    "    processed_words = [preprocess_func(word) for word in words if word not in stop_words]\n",
    "    \n",
    "    # Join processed words\n",
    "    return ' '.join(processed_words)"
   ]
  },
  {
   "cell_type": "code",
   "execution_count": 4,
   "metadata": {},
   "outputs": [],
   "source": [
    "\n",
    "# create a function where user query returns top 10 relevant searches\n",
    "def getResults(query,flag):\n",
    "    \n",
    "    # Pre process the query\n",
    "    text=text_preprocessing(query, flag)\n",
    "    print(text)\n",
    "    \n",
    "\n",
    "    #create a persistentClient\n",
    "    client=chromadb.PersistentClient(path=\"../data/ChromaDB\")\n",
    "     #create or get a collection\n",
    "    collection=client.get_or_create_collection(name='transcripts',metadata={\"hnsw:space\": \"cosine\"})\n",
    "\n",
    "    #read the names file\n",
    "    df=pd.read_csv('../data/names.csv', index_col=0)\n",
    "    \n",
    "    #query with Chroma DB\n",
    "    results = collection.query(\n",
    "        query_texts=[text],\n",
    "        n_results=20\n",
    "    )\n",
    "    \n",
    "    #get distinct names\n",
    "    ids=results['ids'][0]\n",
    "    names=[]\n",
    "    hashmap=collections.defaultdict()\n",
    "    for i in ids:\n",
    "        parent_id=i.split('-')[0]\n",
    "        df.loc[int(parent_id),'name']\n",
    "        if parent_id not in hashmap:\n",
    "            hashmap[parent_id]=1\n",
    "            names.append(df.loc[int(parent_id),'name'])\n",
    "    \n",
    "    return names[:10]\n",
    "\n",
    "\n",
    "\n",
    "\n"
   ]
  },
  {
   "cell_type": "code",
   "execution_count": 5,
   "metadata": {},
   "outputs": [
    {
     "name": "stdout",
     "output_type": "stream",
     "text": [
      "name god gracious merci\n"
     ]
    },
    {
     "name": "stderr",
     "output_type": "stream",
     "text": [
      "Add of existing embedding ID: 70000-0\n",
      "Add of existing embedding ID: 70001-0\n",
      "Add of existing embedding ID: 70002-0\n",
      "Add of existing embedding ID: 70003-0\n",
      "Add of existing embedding ID: 70003-1\n",
      "Add of existing embedding ID: 70003-2\n",
      "Add of existing embedding ID: 70003-3\n",
      "Add of existing embedding ID: 70003-4\n",
      "Add of existing embedding ID: 70003-5\n",
      "Add of existing embedding ID: 70003-6\n",
      "Add of existing embedding ID: 70003-7\n",
      "Add of existing embedding ID: 70003-8\n",
      "Add of existing embedding ID: 70003-9\n",
      "Add of existing embedding ID: 70003-10\n",
      "Add of existing embedding ID: 70003-11\n",
      "Add of existing embedding ID: 70003-12\n",
      "Add of existing embedding ID: 70003-13\n",
      "Add of existing embedding ID: 70003-14\n",
      "Add of existing embedding ID: 70003-15\n",
      "Add of existing embedding ID: 70003-16\n",
      "Add of existing embedding ID: 70003-17\n",
      "Add of existing embedding ID: 70003-18\n",
      "Add of existing embedding ID: 70003-19\n",
      "Add of existing embedding ID: 70003-20\n",
      "Add of existing embedding ID: 70003-21\n",
      "Add of existing embedding ID: 71626-8\n",
      "Add of existing embedding ID: 71626-9\n",
      "Add of existing embedding ID: 71626-10\n",
      "Add of existing embedding ID: 71627-0\n",
      "Add of existing embedding ID: 71627-1\n",
      "Add of existing embedding ID: 71627-2\n",
      "Add of existing embedding ID: 71627-3\n",
      "Add of existing embedding ID: 71627-4\n",
      "Add of existing embedding ID: 71627-5\n",
      "Add of existing embedding ID: 71627-6\n",
      "Add of existing embedding ID: 71627-7\n",
      "Add of existing embedding ID: 71627-8\n",
      "Add of existing embedding ID: 71627-9\n",
      "Add of existing embedding ID: 71627-10\n",
      "Add of existing embedding ID: 71627-11\n",
      "Add of existing embedding ID: 71628-0\n",
      "Add of existing embedding ID: 71628-1\n",
      "Add of existing embedding ID: 71628-2\n",
      "Add of existing embedding ID: 71628-3\n",
      "Add of existing embedding ID: 71628-4\n",
      "Add of existing embedding ID: 71628-5\n"
     ]
    },
    {
     "name": "stdout",
     "output_type": "stream",
     "text": [
      "['queen.margot.(1994).eng.1cd', 'a.d.the.bible.continues.s01.e06.the.persecution.(2015).eng.1cd', 'noah.(2019).eng.1cd', 'a.d.the.bible.continues.s01.e06.the.persecution.(2015).eng.1cd', 'amor.(2016).eng.1cd', 'smyrna.(2021).eng.1cd', 'samson.and.delilah.(1949).eng.1cd', 'jonah.the.musical.(2017).eng.1cd', 'the.other.boleyn.girl.(2008).eng.1cd', 'studio.one.s04.e30.pontius.pilate.(1952).eng.1cd', 'magic.men.(2014).eng.1cd', 'david.and.bathsheba.(1951).eng.1cd', 'the.crusades.(1935).eng.1cd', 'whether.the.weather.is.fine.(2021).eng.1cd', 'fauda.s04.e12.episode.4.12.(2022).eng.1cd', 'medusa.(2021).eng.1cd', 'solomon.and.sheba.(1959).eng.1cd', 'mystery.campion.s01.e05.the.case.of.the.late.pig.part.1.(1989).eng.1cd', 'the.popes.exorcist.(2023).eng.1cd']\n"
     ]
    }
   ],
   "source": [
    "names=getResults('In the name of God, the most gracious, the most merciful','stemming')\n",
    "print(names)"
   ]
  },
  {
   "cell_type": "code",
   "execution_count": 6,
   "metadata": {},
   "outputs": [],
   "source": [
    "#creating a results dataFrame\n",
    "result_df=pd.DataFrame({'Name':names},index=[i+1 for i in range(len(names))])"
   ]
  },
  {
   "cell_type": "code",
   "execution_count": 7,
   "metadata": {},
   "outputs": [
    {
     "data": {
      "text/html": [
       "<div>\n",
       "<style scoped>\n",
       "    .dataframe tbody tr th:only-of-type {\n",
       "        vertical-align: middle;\n",
       "    }\n",
       "\n",
       "    .dataframe tbody tr th {\n",
       "        vertical-align: top;\n",
       "    }\n",
       "\n",
       "    .dataframe thead th {\n",
       "        text-align: right;\n",
       "    }\n",
       "</style>\n",
       "<table border=\"1\" class=\"dataframe\">\n",
       "  <thead>\n",
       "    <tr style=\"text-align: right;\">\n",
       "      <th></th>\n",
       "      <th>Name</th>\n",
       "    </tr>\n",
       "  </thead>\n",
       "  <tbody>\n",
       "    <tr>\n",
       "      <th>1</th>\n",
       "      <td>queen.margot.(1994).eng.1cd</td>\n",
       "    </tr>\n",
       "    <tr>\n",
       "      <th>2</th>\n",
       "      <td>a.d.the.bible.continues.s01.e06.the.persecutio...</td>\n",
       "    </tr>\n",
       "    <tr>\n",
       "      <th>3</th>\n",
       "      <td>noah.(2019).eng.1cd</td>\n",
       "    </tr>\n",
       "    <tr>\n",
       "      <th>4</th>\n",
       "      <td>a.d.the.bible.continues.s01.e06.the.persecutio...</td>\n",
       "    </tr>\n",
       "    <tr>\n",
       "      <th>5</th>\n",
       "      <td>amor.(2016).eng.1cd</td>\n",
       "    </tr>\n",
       "    <tr>\n",
       "      <th>6</th>\n",
       "      <td>smyrna.(2021).eng.1cd</td>\n",
       "    </tr>\n",
       "    <tr>\n",
       "      <th>7</th>\n",
       "      <td>samson.and.delilah.(1949).eng.1cd</td>\n",
       "    </tr>\n",
       "    <tr>\n",
       "      <th>8</th>\n",
       "      <td>jonah.the.musical.(2017).eng.1cd</td>\n",
       "    </tr>\n",
       "    <tr>\n",
       "      <th>9</th>\n",
       "      <td>the.other.boleyn.girl.(2008).eng.1cd</td>\n",
       "    </tr>\n",
       "    <tr>\n",
       "      <th>10</th>\n",
       "      <td>studio.one.s04.e30.pontius.pilate.(1952).eng.1cd</td>\n",
       "    </tr>\n",
       "    <tr>\n",
       "      <th>11</th>\n",
       "      <td>magic.men.(2014).eng.1cd</td>\n",
       "    </tr>\n",
       "    <tr>\n",
       "      <th>12</th>\n",
       "      <td>david.and.bathsheba.(1951).eng.1cd</td>\n",
       "    </tr>\n",
       "    <tr>\n",
       "      <th>13</th>\n",
       "      <td>the.crusades.(1935).eng.1cd</td>\n",
       "    </tr>\n",
       "    <tr>\n",
       "      <th>14</th>\n",
       "      <td>whether.the.weather.is.fine.(2021).eng.1cd</td>\n",
       "    </tr>\n",
       "    <tr>\n",
       "      <th>15</th>\n",
       "      <td>fauda.s04.e12.episode.4.12.(2022).eng.1cd</td>\n",
       "    </tr>\n",
       "    <tr>\n",
       "      <th>16</th>\n",
       "      <td>medusa.(2021).eng.1cd</td>\n",
       "    </tr>\n",
       "    <tr>\n",
       "      <th>17</th>\n",
       "      <td>solomon.and.sheba.(1959).eng.1cd</td>\n",
       "    </tr>\n",
       "    <tr>\n",
       "      <th>18</th>\n",
       "      <td>mystery.campion.s01.e05.the.case.of.the.late.p...</td>\n",
       "    </tr>\n",
       "    <tr>\n",
       "      <th>19</th>\n",
       "      <td>the.popes.exorcist.(2023).eng.1cd</td>\n",
       "    </tr>\n",
       "  </tbody>\n",
       "</table>\n",
       "</div>"
      ],
      "text/plain": [
       "                                                 Name\n",
       "1                         queen.margot.(1994).eng.1cd\n",
       "2   a.d.the.bible.continues.s01.e06.the.persecutio...\n",
       "3                                 noah.(2019).eng.1cd\n",
       "4   a.d.the.bible.continues.s01.e06.the.persecutio...\n",
       "5                                 amor.(2016).eng.1cd\n",
       "6                               smyrna.(2021).eng.1cd\n",
       "7                   samson.and.delilah.(1949).eng.1cd\n",
       "8                    jonah.the.musical.(2017).eng.1cd\n",
       "9                the.other.boleyn.girl.(2008).eng.1cd\n",
       "10   studio.one.s04.e30.pontius.pilate.(1952).eng.1cd\n",
       "11                           magic.men.(2014).eng.1cd\n",
       "12                 david.and.bathsheba.(1951).eng.1cd\n",
       "13                        the.crusades.(1935).eng.1cd\n",
       "14         whether.the.weather.is.fine.(2021).eng.1cd\n",
       "15          fauda.s04.e12.episode.4.12.(2022).eng.1cd\n",
       "16                              medusa.(2021).eng.1cd\n",
       "17                   solomon.and.sheba.(1959).eng.1cd\n",
       "18  mystery.campion.s01.e05.the.case.of.the.late.p...\n",
       "19                  the.popes.exorcist.(2023).eng.1cd"
      ]
     },
     "execution_count": 7,
     "metadata": {},
     "output_type": "execute_result"
    }
   ],
   "source": [
    "result_df"
   ]
  },
  {
   "cell_type": "markdown",
   "metadata": {},
   "source": [
    "# Name processing\n",
    "\n",
    "I am utilizing gemini free api to get more information about the search results"
   ]
  },
  {
   "cell_type": "markdown",
   "metadata": {},
   "source": [
    "### Installing Libraries"
   ]
  },
  {
   "cell_type": "code",
   "execution_count": 8,
   "metadata": {},
   "outputs": [],
   "source": [
    "\n",
    "#!pip install -q -U google-generativeai"
   ]
  },
  {
   "cell_type": "markdown",
   "metadata": {},
   "source": [
    "### Importing Libraries"
   ]
  },
  {
   "cell_type": "code",
   "execution_count": 9,
   "metadata": {},
   "outputs": [
    {
     "name": "stderr",
     "output_type": "stream",
     "text": [
      "c:\\Users\\dsai9\\Projects\\Semantic Search Engine\\searchEngine\\lib\\site-packages\\tqdm\\auto.py:21: TqdmWarning: IProgress not found. Please update jupyter and ipywidgets. See https://ipywidgets.readthedocs.io/en/stable/user_install.html\n",
      "  from .autonotebook import tqdm as notebook_tqdm\n"
     ]
    }
   ],
   "source": [
    "# import libraries\n",
    "import google.generativeai as genai"
   ]
  },
  {
   "cell_type": "markdown",
   "metadata": {},
   "source": [
    "### Load API Key"
   ]
  },
  {
   "cell_type": "code",
   "execution_count": 10,
   "metadata": {},
   "outputs": [],
   "source": [
    "with open('../GEMINI_API_KEY.txt', 'r') as f:\n",
    "    api_key = f.read().strip()\n",
    "\n",
    "genai.configure(api_key=api_key)"
   ]
  },
  {
   "cell_type": "markdown",
   "metadata": {},
   "source": [
    " ### Initializing model object with system instruction"
   ]
  },
  {
   "cell_type": "code",
   "execution_count": 11,
   "metadata": {},
   "outputs": [],
   "source": [
    "sys_instruction='''\n",
    "        for the given list of strings. You should be able to parse following things\n",
    "        \n",
    "        1.name\n",
    "        2.Type(movie or tv show or anime)\n",
    "        3.year\n",
    "        4.season(return blank if it's a movie)\n",
    "        5. episode(return blank if it's a movie)\n",
    "        5. language\n",
    "        \n",
    "        I always want response to be in json format. So crosscheck this instruction twice.\n",
    "        \n",
    "        Sometimes\n",
    "        \n",
    "'''\n",
    "model = genai.GenerativeModel('gemini-1.5-pro-latest',system_instruction=sys_instruction)"
   ]
  },
  {
   "cell_type": "markdown",
   "metadata": {},
   "source": [
    "### Creating a function to get response from the LLM"
   ]
  },
  {
   "cell_type": "code",
   "execution_count": 13,
   "metadata": {},
   "outputs": [],
   "source": [
    "def getDetails(lst):\n",
    "    prompt=sys_instruction+f'Instruction: List of strings are:\\n{lst}'\n",
    "    \n",
    "    response=model.generate_content(prompt)\n",
    "    \n",
    "    return response\n",
    "    "
   ]
  },
  {
   "cell_type": "code",
   "execution_count": 14,
   "metadata": {},
   "outputs": [],
   "source": [
    "names1=[\n",
    "  \"teen.wolf.s02.e01.omega.(2012).eng.1cd\",\n",
    "  \"teen.wolf.s02.e02.shape.shifted.(2012).eng.1cd\",\n",
    "  \"animal.kingdom.s06.e08.revelation.(2022).eng.1cd\",\n",
    "  \"mystery.campion.s01.e02.look.to.the.lady.part.2.(1989).eng.1cd\",\n",
    "  \"animal.kingdom.s06.e08.revelation.(2022).eng.1cd\",\n",
    "  \"the.collini.case.(2019).eng.1cd\",\n",
    "  \"mind.over.murder.s01.e06.episode.1.6.(2022).eng.1cd\",\n",
    "  \"animal.kingdom.s06.e08.revelation.(2022).eng.1cd\",\n",
    "  \"teen.wolf.s03.e07.currents.(2013).eng.1cd\",\n",
    "  \"animal.kingdom.s06.e08.revelation.(2022).eng.1cd\"\n",
    "]"
   ]
  },
  {
   "cell_type": "code",
   "execution_count": 15,
   "metadata": {},
   "outputs": [
    {
     "data": {
      "text/plain": [
       "'```json\\n[\\n  {\\n    \"name\": \"queen margot\",\\n    \"type\": \"movie\",\\n    \"year\": 1994,\\n    \"season\": null,\\n    \"episode\": null,\\n    \"language\": \"eng\"\\n  },\\n  {\\n    \"name\": \"a.d.the.bible.continues\",\\n    \"type\": \"tv show\",\\n    \"year\": 2015,\\n    \"season\": \"s01\",\\n    \"episode\": \"e06\",\\n    \"language\": \"eng\"\\n  },\\n  {\\n    \"name\": \"noah\",\\n    \"type\": \"movie\",\\n    \"year\": 2019,\\n    \"season\": null,\\n    \"episode\": null,\\n    \"language\": \"eng\"\\n  },\\n  {\\n    \"name\": \"a.d.the.bible.continues\",\\n    \"type\": \"tv show\",\\n    \"year\": 2015,\\n    \"season\": \"s01\",\\n    \"episode\": \"e06\",\\n    \"language\": \"eng\"\\n  },\\n  {\\n    \"name\": \"amor\",\\n    \"type\": \"movie\",\\n    \"year\": 2016,\\n    \"season\": null,\\n    \"episode\": null,\\n    \"language\": \"eng\"\\n  },\\n  {\\n    \"name\": \"smyrna\",\\n    \"type\": \"movie\",\\n    \"year\": 2021,\\n    \"season\": null,\\n    \"episode\": null,\\n    \"language\": \"eng\"\\n  },\\n  {\\n    \"name\": \"samson.and.delilah\",\\n    \"type\": \"movie\",\\n    \"year\": 1949,\\n    \"season\": null,\\n    \"episode\": null,\\n    \"language\": \"eng\"\\n  },\\n  {\\n    \"name\": \"jonah.the.musical\",\\n    \"type\": \"movie\",\\n    \"year\": 2017,\\n    \"season\": null,\\n    \"episode\": null,\\n    \"language\": \"eng\"\\n  },\\n  {\\n    \"name\": \"the.other.boleyn.girl\",\\n    \"type\": \"movie\",\\n    \"year\": 2008,\\n    \"season\": null,\\n    \"episode\": null,\\n    \"language\": \"eng\"\\n  },\\n  {\\n    \"name\": \"studio.one\",\\n    \"type\": \"tv show\",\\n    \"year\": 1952,\\n    \"season\": \"s04\",\\n    \"episode\": \"e30\",\\n    \"language\": \"eng\"\\n  },\\n  {\\n    \"name\": \"magic.men\",\\n    \"type\": \"movie\",\\n    \"year\": 2014,\\n    \"season\": null,\\n    \"episode\": null,\\n    \"language\": \"eng\"\\n  },\\n  {\\n    \"name\": \"david.and.bathsheba\",\\n    \"type\": \"movie\",\\n    \"year\": 1951,\\n    \"season\": null,\\n    \"episode\": null,\\n    \"language\": \"eng\"\\n  },\\n  {\\n    \"name\": \"the.crusades\",\\n    \"type\": \"movie\",\\n    \"year\": 1935,\\n    \"season\": null,\\n    \"episode\": null,\\n    \"language\": \"eng\"\\n  },\\n  {\\n    \"name\": \"whether.the.weather.is.fine\",\\n    \"type\": \"movie\",\\n    \"year\": 2021,\\n    \"season\": null,\\n    \"episode\": null,\\n    \"language\": \"eng\"\\n  },\\n  {\\n    \"name\": \"fauda\",\\n    \"type\": \"tv show\",\\n    \"year\": 2022,\\n    \"season\": \"s04\",\\n    \"episode\": \"e12\",\\n    \"language\": \"eng\"\\n  },\\n  {\\n    \"name\": \"medusa\",\\n    \"type\": \"movie\",\\n    \"year\": 2021,\\n    \"season\": null,\\n    \"episode\": null,\\n    \"language\": \"eng\"\\n  },\\n  {\\n    \"name\": \"solomon.and.sheba\",\\n    \"type\": \"movie\",\\n    \"year\": 1959,\\n    \"season\": null,\\n    \"episode\": null,\\n    \"language\": \"eng\"\\n  },\\n  {\\n    \"name\": \"mystery.campion\",\\n    \"type\": \"tv show\",\\n    \"year\": 1989,\\n    \"season\": \"s01\",\\n    \"episode\": \"e05\",\\n    \"language\": \"eng\"\\n  },\\n  {\\n    \"name\": \"the.popes.exorcist\",\\n    \"type\": \"movie\",\\n    \"year\": 2023,\\n    \"season\": null,\\n    \"episode\": null,\\n    \"language\": \"eng\"\\n  }\\n]\\n```'"
      ]
     },
     "execution_count": 15,
     "metadata": {},
     "output_type": "execute_result"
    }
   ],
   "source": [
    "response=getDetails(names)\n",
    "response.text"
   ]
  },
  {
   "cell_type": "markdown",
   "metadata": {},
   "source": [
    "### Transforming markdown response to jsono response"
   ]
  },
  {
   "cell_type": "code",
   "execution_count": 16,
   "metadata": {},
   "outputs": [
    {
     "name": "stdout",
     "output_type": "stream",
     "text": [
      "[{'name': 'queen margot', 'type': 'movie', 'year': 1994, 'season': None, 'episode': None, 'language': 'eng'}, {'name': 'a.d.the.bible.continues', 'type': 'tv show', 'year': 2015, 'season': 's01', 'episode': 'e06', 'language': 'eng'}, {'name': 'noah', 'type': 'movie', 'year': 2019, 'season': None, 'episode': None, 'language': 'eng'}, {'name': 'a.d.the.bible.continues', 'type': 'tv show', 'year': 2015, 'season': 's01', 'episode': 'e06', 'language': 'eng'}, {'name': 'amor', 'type': 'movie', 'year': 2016, 'season': None, 'episode': None, 'language': 'eng'}, {'name': 'smyrna', 'type': 'movie', 'year': 2021, 'season': None, 'episode': None, 'language': 'eng'}, {'name': 'samson.and.delilah', 'type': 'movie', 'year': 1949, 'season': None, 'episode': None, 'language': 'eng'}, {'name': 'jonah.the.musical', 'type': 'movie', 'year': 2017, 'season': None, 'episode': None, 'language': 'eng'}, {'name': 'the.other.boleyn.girl', 'type': 'movie', 'year': 2008, 'season': None, 'episode': None, 'language': 'eng'}, {'name': 'studio.one', 'type': 'tv show', 'year': 1952, 'season': 's04', 'episode': 'e30', 'language': 'eng'}, {'name': 'magic.men', 'type': 'movie', 'year': 2014, 'season': None, 'episode': None, 'language': 'eng'}, {'name': 'david.and.bathsheba', 'type': 'movie', 'year': 1951, 'season': None, 'episode': None, 'language': 'eng'}, {'name': 'the.crusades', 'type': 'movie', 'year': 1935, 'season': None, 'episode': None, 'language': 'eng'}, {'name': 'whether.the.weather.is.fine', 'type': 'movie', 'year': 2021, 'season': None, 'episode': None, 'language': 'eng'}, {'name': 'fauda', 'type': 'tv show', 'year': 2022, 'season': 's04', 'episode': 'e12', 'language': 'eng'}, {'name': 'medusa', 'type': 'movie', 'year': 2021, 'season': None, 'episode': None, 'language': 'eng'}, {'name': 'solomon.and.sheba', 'type': 'movie', 'year': 1959, 'season': None, 'episode': None, 'language': 'eng'}, {'name': 'mystery.campion', 'type': 'tv show', 'year': 1989, 'season': 's01', 'episode': 'e05', 'language': 'eng'}, {'name': 'the.popes.exorcist', 'type': 'movie', 'year': 2023, 'season': None, 'episode': None, 'language': 'eng'}]\n"
     ]
    }
   ],
   "source": [
    "import json\n",
    "\n",
    "markdown_content=response.text\n",
    "\n",
    "# Extract JSON content from the Markdown file (assuming JSON content is enclosed in ```json ... ```)\n",
    "json_start = markdown_content.find('```json') + len('```json')\n",
    "json_end = markdown_content.find('```', json_start)\n",
    "json_content = markdown_content[json_start:json_end]\n",
    "\n",
    "# Parse the extracted JSON content\n",
    "data = json.loads(json_content)\n",
    "\n",
    "# Access the parsed data\n",
    "print(data)"
   ]
  },
  {
   "cell_type": "markdown",
   "metadata": {},
   "source": [
    "### Converting to a dataframe"
   ]
  },
  {
   "cell_type": "code",
   "execution_count": 17,
   "metadata": {},
   "outputs": [
    {
     "data": {
      "text/html": [
       "<div>\n",
       "<style scoped>\n",
       "    .dataframe tbody tr th:only-of-type {\n",
       "        vertical-align: middle;\n",
       "    }\n",
       "\n",
       "    .dataframe tbody tr th {\n",
       "        vertical-align: top;\n",
       "    }\n",
       "\n",
       "    .dataframe thead th {\n",
       "        text-align: right;\n",
       "    }\n",
       "</style>\n",
       "<table border=\"1\" class=\"dataframe\">\n",
       "  <thead>\n",
       "    <tr style=\"text-align: right;\">\n",
       "      <th></th>\n",
       "      <th>name</th>\n",
       "      <th>type</th>\n",
       "      <th>year</th>\n",
       "      <th>season</th>\n",
       "      <th>episode</th>\n",
       "      <th>language</th>\n",
       "    </tr>\n",
       "  </thead>\n",
       "  <tbody>\n",
       "    <tr>\n",
       "      <th>0</th>\n",
       "      <td>queen margot</td>\n",
       "      <td>movie</td>\n",
       "      <td>1994</td>\n",
       "      <td>None</td>\n",
       "      <td>None</td>\n",
       "      <td>eng</td>\n",
       "    </tr>\n",
       "    <tr>\n",
       "      <th>1</th>\n",
       "      <td>a.d.the.bible.continues</td>\n",
       "      <td>tv show</td>\n",
       "      <td>2015</td>\n",
       "      <td>s01</td>\n",
       "      <td>e06</td>\n",
       "      <td>eng</td>\n",
       "    </tr>\n",
       "    <tr>\n",
       "      <th>2</th>\n",
       "      <td>noah</td>\n",
       "      <td>movie</td>\n",
       "      <td>2019</td>\n",
       "      <td>None</td>\n",
       "      <td>None</td>\n",
       "      <td>eng</td>\n",
       "    </tr>\n",
       "    <tr>\n",
       "      <th>3</th>\n",
       "      <td>a.d.the.bible.continues</td>\n",
       "      <td>tv show</td>\n",
       "      <td>2015</td>\n",
       "      <td>s01</td>\n",
       "      <td>e06</td>\n",
       "      <td>eng</td>\n",
       "    </tr>\n",
       "    <tr>\n",
       "      <th>4</th>\n",
       "      <td>amor</td>\n",
       "      <td>movie</td>\n",
       "      <td>2016</td>\n",
       "      <td>None</td>\n",
       "      <td>None</td>\n",
       "      <td>eng</td>\n",
       "    </tr>\n",
       "    <tr>\n",
       "      <th>5</th>\n",
       "      <td>smyrna</td>\n",
       "      <td>movie</td>\n",
       "      <td>2021</td>\n",
       "      <td>None</td>\n",
       "      <td>None</td>\n",
       "      <td>eng</td>\n",
       "    </tr>\n",
       "    <tr>\n",
       "      <th>6</th>\n",
       "      <td>samson.and.delilah</td>\n",
       "      <td>movie</td>\n",
       "      <td>1949</td>\n",
       "      <td>None</td>\n",
       "      <td>None</td>\n",
       "      <td>eng</td>\n",
       "    </tr>\n",
       "    <tr>\n",
       "      <th>7</th>\n",
       "      <td>jonah.the.musical</td>\n",
       "      <td>movie</td>\n",
       "      <td>2017</td>\n",
       "      <td>None</td>\n",
       "      <td>None</td>\n",
       "      <td>eng</td>\n",
       "    </tr>\n",
       "    <tr>\n",
       "      <th>8</th>\n",
       "      <td>the.other.boleyn.girl</td>\n",
       "      <td>movie</td>\n",
       "      <td>2008</td>\n",
       "      <td>None</td>\n",
       "      <td>None</td>\n",
       "      <td>eng</td>\n",
       "    </tr>\n",
       "    <tr>\n",
       "      <th>9</th>\n",
       "      <td>studio.one</td>\n",
       "      <td>tv show</td>\n",
       "      <td>1952</td>\n",
       "      <td>s04</td>\n",
       "      <td>e30</td>\n",
       "      <td>eng</td>\n",
       "    </tr>\n",
       "    <tr>\n",
       "      <th>10</th>\n",
       "      <td>magic.men</td>\n",
       "      <td>movie</td>\n",
       "      <td>2014</td>\n",
       "      <td>None</td>\n",
       "      <td>None</td>\n",
       "      <td>eng</td>\n",
       "    </tr>\n",
       "    <tr>\n",
       "      <th>11</th>\n",
       "      <td>david.and.bathsheba</td>\n",
       "      <td>movie</td>\n",
       "      <td>1951</td>\n",
       "      <td>None</td>\n",
       "      <td>None</td>\n",
       "      <td>eng</td>\n",
       "    </tr>\n",
       "    <tr>\n",
       "      <th>12</th>\n",
       "      <td>the.crusades</td>\n",
       "      <td>movie</td>\n",
       "      <td>1935</td>\n",
       "      <td>None</td>\n",
       "      <td>None</td>\n",
       "      <td>eng</td>\n",
       "    </tr>\n",
       "    <tr>\n",
       "      <th>13</th>\n",
       "      <td>whether.the.weather.is.fine</td>\n",
       "      <td>movie</td>\n",
       "      <td>2021</td>\n",
       "      <td>None</td>\n",
       "      <td>None</td>\n",
       "      <td>eng</td>\n",
       "    </tr>\n",
       "    <tr>\n",
       "      <th>14</th>\n",
       "      <td>fauda</td>\n",
       "      <td>tv show</td>\n",
       "      <td>2022</td>\n",
       "      <td>s04</td>\n",
       "      <td>e12</td>\n",
       "      <td>eng</td>\n",
       "    </tr>\n",
       "    <tr>\n",
       "      <th>15</th>\n",
       "      <td>medusa</td>\n",
       "      <td>movie</td>\n",
       "      <td>2021</td>\n",
       "      <td>None</td>\n",
       "      <td>None</td>\n",
       "      <td>eng</td>\n",
       "    </tr>\n",
       "    <tr>\n",
       "      <th>16</th>\n",
       "      <td>solomon.and.sheba</td>\n",
       "      <td>movie</td>\n",
       "      <td>1959</td>\n",
       "      <td>None</td>\n",
       "      <td>None</td>\n",
       "      <td>eng</td>\n",
       "    </tr>\n",
       "    <tr>\n",
       "      <th>17</th>\n",
       "      <td>mystery.campion</td>\n",
       "      <td>tv show</td>\n",
       "      <td>1989</td>\n",
       "      <td>s01</td>\n",
       "      <td>e05</td>\n",
       "      <td>eng</td>\n",
       "    </tr>\n",
       "    <tr>\n",
       "      <th>18</th>\n",
       "      <td>the.popes.exorcist</td>\n",
       "      <td>movie</td>\n",
       "      <td>2023</td>\n",
       "      <td>None</td>\n",
       "      <td>None</td>\n",
       "      <td>eng</td>\n",
       "    </tr>\n",
       "  </tbody>\n",
       "</table>\n",
       "</div>"
      ],
      "text/plain": [
       "                           name     type  year season episode language\n",
       "0                  queen margot    movie  1994   None    None      eng\n",
       "1       a.d.the.bible.continues  tv show  2015    s01     e06      eng\n",
       "2                          noah    movie  2019   None    None      eng\n",
       "3       a.d.the.bible.continues  tv show  2015    s01     e06      eng\n",
       "4                          amor    movie  2016   None    None      eng\n",
       "5                        smyrna    movie  2021   None    None      eng\n",
       "6            samson.and.delilah    movie  1949   None    None      eng\n",
       "7             jonah.the.musical    movie  2017   None    None      eng\n",
       "8         the.other.boleyn.girl    movie  2008   None    None      eng\n",
       "9                    studio.one  tv show  1952    s04     e30      eng\n",
       "10                    magic.men    movie  2014   None    None      eng\n",
       "11          david.and.bathsheba    movie  1951   None    None      eng\n",
       "12                 the.crusades    movie  1935   None    None      eng\n",
       "13  whether.the.weather.is.fine    movie  2021   None    None      eng\n",
       "14                        fauda  tv show  2022    s04     e12      eng\n",
       "15                       medusa    movie  2021   None    None      eng\n",
       "16            solomon.and.sheba    movie  1959   None    None      eng\n",
       "17              mystery.campion  tv show  1989    s01     e05      eng\n",
       "18           the.popes.exorcist    movie  2023   None    None      eng"
      ]
     },
     "execution_count": 17,
     "metadata": {},
     "output_type": "execute_result"
    }
   ],
   "source": [
    "results_df=pd.DataFrame(data)\n",
    "results_df"
   ]
  },
  {
   "cell_type": "markdown",
   "metadata": {},
   "source": [
    "# Querying subtitles\n",
    "\n",
    "Displaying subtitles for the selected show"
   ]
  },
  {
   "cell_type": "code",
   "execution_count": 18,
   "metadata": {},
   "outputs": [],
   "source": [
    "with open(r'C:\\Users\\dsai9\\Projects\\Semantic Search Engine\\data\\space.battleship.yamato.the.new.voyage.(1979).eng.1cd.srt','r',encoding='utf-8') as file:\n",
    "    \n",
    "    # Read the file and convert its content to a string\n",
    "    content = file.read()\n",
    "\n",
    "    # Decode the string using the unicode_escape encoding\n",
    "    #decoded_content = content.encode('utf-8').decode('unicode_escape')"
   ]
  },
  {
   "cell_type": "code",
   "execution_count": null,
   "metadata": {},
   "outputs": [],
   "source": []
  },
  {
   "cell_type": "code",
   "execution_count": null,
   "metadata": {},
   "outputs": [],
   "source": []
  },
  {
   "cell_type": "code",
   "execution_count": null,
   "metadata": {},
   "outputs": [],
   "source": []
  }
 ],
 "metadata": {
  "kernelspec": {
   "display_name": "Python 3",
   "language": "python",
   "name": "python3"
  },
  "language_info": {
   "codemirror_mode": {
    "name": "ipython",
    "version": 3
   },
   "file_extension": ".py",
   "mimetype": "text/x-python",
   "name": "python",
   "nbconvert_exporter": "python",
   "pygments_lexer": "ipython3",
   "version": "3.9.19"
  }
 },
 "nbformat": 4,
 "nbformat_minor": 2
}
